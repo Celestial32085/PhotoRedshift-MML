{
 "cells": [
  {
   "cell_type": "code",
   "execution_count": 1,
   "metadata": {},
   "outputs": [],
   "source": [
    "import pandas as pd\n",
    "import numpy as np\n",
    "testdata=pd.read_csv('data_mag.csv',header=None)\n",
    "testdata=np.array(testdata)\n",
    "data_128=pd.read_csv('data128_att.csv',header=None)\n",
    "data_128=np.array(data_128)"
   ]
  },
  {
   "cell_type": "code",
   "execution_count": 2,
   "metadata": {},
   "outputs": [
    {
     "name": "stdout",
     "output_type": "stream",
     "text": [
      "(415930, 128) (415930, 15)\n"
     ]
    }
   ],
   "source": [
    "import random\n",
    "import os\n",
    "print(data_128.shape,testdata.shape)"
   ]
  },
  {
   "cell_type": "code",
   "execution_count": 3,
   "metadata": {},
   "outputs": [
    {
     "data": {
      "text/plain": [
       "array([22.2388069 , 20.5110277 , 20.24194427, 20.1458268 , 20.11881749,\n",
       "        1.7277792 ,  0.26908343,  0.09611747,  0.02700931,  2.11998941,\n",
       "        0.3205355 ,  0.02898466,  0.03272481,  0.03613797,  0.1095667 ])"
      ]
     },
     "execution_count": 3,
     "metadata": {},
     "output_type": "execute_result"
    }
   ],
   "source": [
    "#归一化前\n",
    "testdata[0]"
   ]
  },
  {
   "cell_type": "code",
   "execution_count": 4,
   "metadata": {},
   "outputs": [],
   "source": [
    "#对星等数据进行归一化\n",
    "def scale_minmax(data):\n",
    "    return (data-data.min())/(data.max()-data.min())\n",
    "\n",
    "for i in range(0,15):\n",
    "    testdata[:,i]=scale_minmax(testdata[:,i])"
   ]
  },
  {
   "cell_type": "code",
   "execution_count": 5,
   "metadata": {},
   "outputs": [
    {
     "data": {
      "text/plain": [
       "array([3.95794090e-01, 7.22881797e-01, 4.27828383e-01, 3.03021012e-01,\n",
       "       3.89454079e-01, 4.17888816e-01, 7.47999626e-01, 6.54530164e-01,\n",
       "       3.59167443e-01, 4.86288924e-01, 1.14727068e-07, 6.96020597e-04,\n",
       "       9.79835817e-05, 1.10148879e-08, 4.82120177e-04])"
      ]
     },
     "execution_count": 5,
     "metadata": {},
     "output_type": "execute_result"
    }
   ],
   "source": [
    "#归一化后\n",
    "testdata[0]"
   ]
  },
  {
   "cell_type": "code",
   "execution_count": 6,
   "metadata": {},
   "outputs": [],
   "source": [
    "X = testdata"
   ]
  },
  {
   "cell_type": "code",
   "execution_count": 7,
   "metadata": {},
   "outputs": [
    {
     "name": "stdout",
     "output_type": "stream",
     "text": [
      "[3.95794090e-01 7.22881797e-01 4.27828383e-01 3.03021012e-01\n",
      " 3.89454079e-01 4.17888816e-01 7.47999626e-01 6.54530164e-01\n",
      " 3.59167443e-01 4.86288924e-01 1.14727068e-07 6.96020597e-04\n",
      " 9.79835817e-05 1.10148879e-08 4.82120177e-04]\n",
      "(415930, 15)\n"
     ]
    }
   ],
   "source": [
    "print(X[0])\n",
    "print(X.shape)"
   ]
  },
  {
   "cell_type": "code",
   "execution_count": 8,
   "metadata": {},
   "outputs": [],
   "source": [
    "Y = data_128"
   ]
  },
  {
   "cell_type": "code",
   "execution_count": 9,
   "metadata": {},
   "outputs": [
    {
     "data": {
      "text/plain": [
       "array([0.        , 0.28354907, 0.00287842, 0.52421135, 0.        ,\n",
       "       0.4124236 , 0.        , 0.        , 0.08798833, 0.        ,\n",
       "       0.        , 0.4147914 , 0.        , 0.31539166, 0.        ,\n",
       "       0.30572549, 0.        , 0.22732116, 0.        , 0.        ,\n",
       "       0.        , 0.3546334 , 0.        , 0.26890218, 0.63035053,\n",
       "       0.        , 0.        , 0.1440393 , 0.        , 0.        ,\n",
       "       0.47783142, 0.17327282, 0.        , 0.25363016, 0.        ,\n",
       "       0.55338115, 0.5457725 , 0.58127236, 0.        , 0.        ,\n",
       "       0.        , 0.        , 0.        , 0.08024985, 0.        ,\n",
       "       0.        , 0.        , 0.        , 0.        , 0.        ,\n",
       "       0.30087745, 0.        , 0.22181012, 0.        , 0.        ,\n",
       "       0.5439936 , 0.34668416, 0.        , 0.20465052, 0.        ,\n",
       "       0.4929799 , 0.1190673 , 0.        , 0.        , 0.29773685,\n",
       "       0.01531482, 0.        , 0.        , 0.43425375, 0.        ,\n",
       "       0.28080118, 0.        , 0.        , 0.30950707, 0.38715574,\n",
       "       0.        , 0.        , 0.        , 0.34790358, 0.3638311 ,\n",
       "       0.        , 0.        , 0.26592323, 0.62681013, 0.        ,\n",
       "       0.25477034, 0.00615253, 0.27782464, 0.5887648 , 0.4839154 ,\n",
       "       0.15474194, 0.        , 0.72828263, 0.        , 0.1737665 ,\n",
       "       0.07385169, 0.43281466, 0.13120233, 0.        , 0.        ,\n",
       "       0.40624893, 0.        , 0.02298914, 0.33944076, 0.        ,\n",
       "       0.6250942 , 0.        , 0.        , 0.        , 0.040214  ,\n",
       "       0.15788437, 0.        , 0.        , 0.32250297, 0.        ,\n",
       "       0.        , 0.40909165, 0.8132719 , 0.4959912 , 0.06279481,\n",
       "       0.        , 0.17105108, 0.        , 0.24786946, 0.        ,\n",
       "       0.        , 0.        , 0.27271345])"
      ]
     },
     "execution_count": 9,
     "metadata": {},
     "output_type": "execute_result"
    }
   ],
   "source": [
    "Y[0]"
   ]
  },
  {
   "cell_type": "code",
   "execution_count": 10,
   "metadata": {},
   "outputs": [
    {
     "data": {
      "text/plain": [
       "(415930, 128)"
      ]
     },
     "execution_count": 10,
     "metadata": {},
     "output_type": "execute_result"
    }
   ],
   "source": [
    "Y.shape"
   ]
  },
  {
   "cell_type": "code",
   "execution_count": 11,
   "metadata": {},
   "outputs": [
    {
     "data": {
      "text/plain": [
       "'\\n#对光谱128数据进行归一化\\ndef scale_minmax(data):\\n    return (data-data.min())/(data.max()-data.min())\\n\\nfor i in range(0,128):\\n    Y[:,i]=scale_minmax(Y[:,i])\\n'"
      ]
     },
     "execution_count": 11,
     "metadata": {},
     "output_type": "execute_result"
    }
   ],
   "source": [
    "#对数据进行归一化\n",
    "import math\n",
    "feature=128\n",
    "\n",
    "def nom_flow(data):             \n",
    "    for i in range(data.shape[0]):\n",
    "        sum=0\n",
    "        for j in range(feature):\n",
    "            sum=sum+data[i,j]**2\n",
    "        for j in range(feature):\n",
    "            data[i,j]=data[i,j]/math.sqrt(sum)\n",
    "nom_flow(Y)\n"
   ]
  },
  {
   "cell_type": "code",
   "execution_count": 12,
   "metadata": {
    "scrolled": true
   },
   "outputs": [
    {
     "data": {
      "text/plain": [
       "array([0.        , 0.09683448, 0.00098301, 0.17902275, 0.        ,\n",
       "       0.14084626, 0.        , 0.        , 0.03004878, 0.        ,\n",
       "       0.        , 0.14165488, 0.        , 0.107709  , 0.        ,\n",
       "       0.10440792, 0.        , 0.07763216, 0.        , 0.        ,\n",
       "       0.        , 0.1211104 , 0.        , 0.09183244, 0.2152702 ,\n",
       "       0.        , 0.        , 0.04919068, 0.        , 0.        ,\n",
       "       0.1631836 , 0.05917418, 0.        , 0.08661691, 0.        ,\n",
       "       0.18898449, 0.18638607, 0.19850958, 0.        , 0.        ,\n",
       "       0.        , 0.        , 0.        , 0.02740602, 0.        ,\n",
       "       0.        , 0.        , 0.        , 0.        , 0.        ,\n",
       "       0.10275227, 0.        , 0.07575009, 0.        , 0.        ,\n",
       "       0.18577856, 0.11839566, 0.        , 0.06988994, 0.        ,\n",
       "       0.16835694, 0.04066252, 0.        , 0.        , 0.10167973,\n",
       "       0.00523014, 0.        , 0.        , 0.14830144, 0.        ,\n",
       "       0.09589605, 0.        , 0.        , 0.10569936, 0.13221706,\n",
       "       0.        , 0.        , 0.        , 0.11881211, 0.12425149,\n",
       "       0.        , 0.        , 0.0908151 , 0.21406113, 0.        ,\n",
       "       0.08700629, 0.00210114, 0.09487954, 0.20106831, 0.16526133,\n",
       "       0.05284572, 0.        , 0.24871487, 0.        , 0.05934278,\n",
       "       0.025221  , 0.14780998, 0.04480674, 0.        , 0.        ,\n",
       "       0.13873755, 0.        , 0.00785099, 0.11592198, 0.        ,\n",
       "       0.21347512, 0.        , 0.        , 0.        , 0.01373343,\n",
       "       0.05391889, 0.        , 0.        , 0.11013758, 0.        ,\n",
       "       0.        , 0.13970837, 0.27773945, 0.16938532, 0.02144498,\n",
       "       0.        , 0.05841544, 0.        , 0.08464958, 0.        ,\n",
       "       0.        , 0.        , 0.09313402])"
      ]
     },
     "execution_count": 12,
     "metadata": {},
     "output_type": "execute_result"
    }
   ],
   "source": [
    "Y[0]"
   ]
  },
  {
   "cell_type": "code",
   "execution_count": 13,
   "metadata": {},
   "outputs": [
    {
     "name": "stdout",
     "output_type": "stream",
     "text": [
      "[3.00908473e-01 7.04727408e-01 4.46109117e-01 2.99347830e-01\n",
      " 3.75655176e-01 3.17010989e-01 7.18700844e-01 6.68918557e-01\n",
      " 3.65814640e-01 4.01778030e-01 2.53859430e-08 6.46557273e-04\n",
      " 9.40387973e-05 1.15872505e-08 4.40129597e-04]\n"
     ]
    }
   ],
   "source": [
    "#分割数据集\n",
    "from sklearn.model_selection import train_test_split\n",
    "#Y = data_16\n",
    "X_train, X_test, Y_train, Y_test = train_test_split(X, Y,test_size = 0.2, random_state=42)\n",
    "print(X_train[0])"
   ]
  },
  {
   "cell_type": "code",
   "execution_count": 14,
   "metadata": {},
   "outputs": [
    {
     "name": "stderr",
     "output_type": "stream",
     "text": [
      "Using TensorFlow backend.\n"
     ]
    }
   ],
   "source": [
    "#引入相关的库\n",
    "import os\n",
    "os.environ[\"KERAS_BACKEND\"] = \"tensorflow\"\n",
    "os.environ['CUDA_VISIBLE_DEVICES']='1'\n",
    "import tensorflow as tf\n",
    "from keras.backend.tensorflow_backend import set_session\n",
    "config = tf.ConfigProto()\n",
    "config.gpu_options.per_process_gpu_memory_fraction = 0.4\n",
    "set_session(tf.Session(config=config))\n",
    "import math\n",
    "from keras.models import Sequential\n",
    "from keras.layers import Dense, Activation, Flatten, Convolution1D, Dropout, MaxPooling1D, GlobalAveragePooling1D\n",
    "from keras.utils import np_utils\n",
    "import keras.backend as K\n",
    "from keras.layers import *\n",
    "from keras.models import Model\n",
    "from sklearn.preprocessing import LabelBinarizer\n",
    "import matplotlib.pyplot as plt\n",
    "import pickle\n",
    "import keras\n",
    "#import astropy.units as u \n",
    "\n",
    "#plt.plot(Y_train[0])\n",
    "#print(y_test[1])"
   ]
  },
  {
   "cell_type": "code",
   "execution_count": 15,
   "metadata": {},
   "outputs": [
    {
     "name": "stdout",
     "output_type": "stream",
     "text": [
      "Model: \"model_1\"\n",
      "_________________________________________________________________\n",
      "Layer (type)                 Output Shape              Param #   \n",
      "=================================================================\n",
      "input_1 (InputLayer)         (None, 15)                0         \n",
      "_________________________________________________________________\n",
      "dense_1 (Dense)              (None, 8)                 128       \n",
      "_________________________________________________________________\n",
      "dense_2 (Dense)              (None, 16)                144       \n",
      "_________________________________________________________________\n",
      "dense_3 (Dense)              (None, 32)                544       \n",
      "_________________________________________________________________\n",
      "dense_4 (Dense)              (None, 64)                2112      \n",
      "_________________________________________________________________\n",
      "dense_5 (Dense)              (None, 128)               8320      \n",
      "=================================================================\n",
      "Total params: 11,248\n",
      "Trainable params: 11,248\n",
      "Non-trainable params: 0\n",
      "_________________________________________________________________\n",
      "None\n"
     ]
    }
   ],
   "source": [
    "input_dims = 15\n",
    "inputs = Input(shape=(input_dims,))\n",
    "#inputs=Flatten()(inputs)\n",
    "dense1=Dense(8,activation = 'relu')(inputs)\n",
    "dense2=Dense(16,activation = 'relu')(dense1)\n",
    "dense3=Dense(32,activation = 'relu')(dense2)\n",
    "dense4 = Dense(64,activation = 'relu')(dense3)\n",
    "dense5 = Dense(128,activation = 'relu')(dense4)\n",
    "model = Model(inputs = inputs,outputs = dense5)\n",
    "print(model.summary())"
   ]
  },
  {
   "cell_type": "code",
   "execution_count": 16,
   "metadata": {},
   "outputs": [],
   "source": [
    "#X_train, X_test, Y_train, Y_test = train_test_split(X, data_128,test_size = 0.2, random_state=42)"
   ]
  },
  {
   "cell_type": "code",
   "execution_count": 16,
   "metadata": {},
   "outputs": [
    {
     "name": "stdout",
     "output_type": "stream",
     "text": [
      "WARNING:tensorflow:From /home/zouzq/.local/lib/python3.6/site-packages/keras/backend/tensorflow_backend.py:422: The name tf.global_variables is deprecated. Please use tf.compat.v1.global_variables instead.\n",
      "\n",
      "Train on 332744 samples, validate on 83186 samples\n",
      "Epoch 1/100\n",
      "332744/332744 [==============================] - 2s 7us/step - loss: 0.0021 - val_loss: 0.0017\n",
      "Epoch 2/100\n",
      "332744/332744 [==============================] - 2s 6us/step - loss: 0.0016 - val_loss: 0.0016\n",
      "Epoch 3/100\n",
      "332744/332744 [==============================] - 2s 6us/step - loss: 0.0016 - val_loss: 0.0016\n",
      "Epoch 4/100\n",
      "332744/332744 [==============================] - 2s 6us/step - loss: 0.0015 - val_loss: 0.0015\n",
      "Epoch 5/100\n",
      "332744/332744 [==============================] - 2s 6us/step - loss: 0.0015 - val_loss: 0.0015\n",
      "Epoch 6/100\n",
      "332744/332744 [==============================] - 2s 6us/step - loss: 0.0015 - val_loss: 0.0015\n",
      "Epoch 7/100\n",
      "332744/332744 [==============================] - 2s 6us/step - loss: 0.0015 - val_loss: 0.0015\n",
      "Epoch 8/100\n",
      "332744/332744 [==============================] - 2s 6us/step - loss: 0.0015 - val_loss: 0.0015\n",
      "Epoch 9/100\n",
      "332744/332744 [==============================] - 2s 6us/step - loss: 0.0015 - val_loss: 0.0014\n",
      "Epoch 10/100\n",
      "332744/332744 [==============================] - 2s 6us/step - loss: 0.0014 - val_loss: 0.0014\n",
      "Epoch 11/100\n",
      "332744/332744 [==============================] - 2s 6us/step - loss: 0.0014 - val_loss: 0.0014\n",
      "Epoch 12/100\n",
      "332744/332744 [==============================] - 2s 6us/step - loss: 0.0014 - val_loss: 0.0014\n",
      "Epoch 13/100\n",
      "332744/332744 [==============================] - 2s 6us/step - loss: 0.0014 - val_loss: 0.0014\n",
      "Epoch 14/100\n",
      "332744/332744 [==============================] - 2s 5us/step - loss: 0.0014 - val_loss: 0.0014\n",
      "Epoch 15/100\n",
      "332744/332744 [==============================] - 2s 5us/step - loss: 0.0014 - val_loss: 0.0014\n",
      "Epoch 16/100\n",
      "332744/332744 [==============================] - 2s 6us/step - loss: 0.0013 - val_loss: 0.0014\n",
      "Epoch 17/100\n",
      "332744/332744 [==============================] - 2s 6us/step - loss: 0.0013 - val_loss: 0.0013\n",
      "Epoch 18/100\n",
      "332744/332744 [==============================] - 2s 6us/step - loss: 0.0013 - val_loss: 0.0013\n",
      "Epoch 19/100\n",
      "332744/332744 [==============================] - 2s 6us/step - loss: 0.0013 - val_loss: 0.0013\n",
      "Epoch 20/100\n",
      "332744/332744 [==============================] - 2s 6us/step - loss: 0.0013 - val_loss: 0.0013\n",
      "Epoch 21/100\n",
      "332744/332744 [==============================] - 2s 6us/step - loss: 0.0013 - val_loss: 0.0013\n",
      "Epoch 22/100\n",
      "332744/332744 [==============================] - 2s 6us/step - loss: 0.0013 - val_loss: 0.0013\n",
      "Epoch 23/100\n",
      "332744/332744 [==============================] - 2s 6us/step - loss: 0.0013 - val_loss: 0.0013\n",
      "Epoch 24/100\n",
      "332744/332744 [==============================] - 2s 6us/step - loss: 0.0013 - val_loss: 0.0013\n",
      "Epoch 25/100\n",
      "332744/332744 [==============================] - 2s 6us/step - loss: 0.0013 - val_loss: 0.0013\n",
      "Epoch 26/100\n",
      "332744/332744 [==============================] - 2s 6us/step - loss: 0.0013 - val_loss: 0.0013\n",
      "Epoch 27/100\n",
      "332744/332744 [==============================] - 2s 6us/step - loss: 0.0013 - val_loss: 0.0013\n",
      "Epoch 28/100\n",
      "332744/332744 [==============================] - 2s 5us/step - loss: 0.0013 - val_loss: 0.0013\n",
      "Epoch 29/100\n",
      "332744/332744 [==============================] - 2s 6us/step - loss: 0.0013 - val_loss: 0.0013\n",
      "Epoch 30/100\n",
      "332744/332744 [==============================] - 2s 6us/step - loss: 0.0013 - val_loss: 0.0013\n",
      "Epoch 31/100\n",
      "332744/332744 [==============================] - 2s 6us/step - loss: 0.0013 - val_loss: 0.0013\n",
      "Epoch 32/100\n",
      "332744/332744 [==============================] - 2s 6us/step - loss: 0.0013 - val_loss: 0.0013\n",
      "Epoch 33/100\n",
      "332744/332744 [==============================] - 2s 6us/step - loss: 0.0013 - val_loss: 0.0013\n",
      "Epoch 34/100\n",
      "332744/332744 [==============================] - 2s 6us/step - loss: 0.0013 - val_loss: 0.0013\n",
      "Epoch 35/100\n",
      "332744/332744 [==============================] - 2s 6us/step - loss: 0.0013 - val_loss: 0.0013\n",
      "Epoch 36/100\n",
      "332744/332744 [==============================] - 2s 6us/step - loss: 0.0013 - val_loss: 0.0013\n",
      "Epoch 37/100\n",
      "332744/332744 [==============================] - 2s 5us/step - loss: 0.0013 - val_loss: 0.0013\n",
      "Epoch 38/100\n",
      "332744/332744 [==============================] - 2s 6us/step - loss: 0.0013 - val_loss: 0.0013\n",
      "Epoch 39/100\n",
      "332744/332744 [==============================] - 2s 6us/step - loss: 0.0013 - val_loss: 0.0013\n",
      "Epoch 40/100\n",
      "332744/332744 [==============================] - 2s 5us/step - loss: 0.0013 - val_loss: 0.0013\n",
      "Epoch 41/100\n",
      "332744/332744 [==============================] - 2s 5us/step - loss: 0.0013 - val_loss: 0.0013\n",
      "Epoch 42/100\n",
      "332744/332744 [==============================] - 2s 5us/step - loss: 0.0013 - val_loss: 0.0013\n",
      "Epoch 43/100\n",
      "332744/332744 [==============================] - 2s 5us/step - loss: 0.0013 - val_loss: 0.0013\n",
      "Epoch 44/100\n",
      "332744/332744 [==============================] - 2s 6us/step - loss: 0.0013 - val_loss: 0.0013\n",
      "Epoch 45/100\n",
      "332744/332744 [==============================] - 2s 5us/step - loss: 0.0013 - val_loss: 0.0013\n",
      "Epoch 46/100\n",
      "332744/332744 [==============================] - 2s 6us/step - loss: 0.0012 - val_loss: 0.0012\n",
      "Epoch 47/100\n",
      "332744/332744 [==============================] - 2s 5us/step - loss: 0.0012 - val_loss: 0.0012\n",
      "Epoch 48/100\n",
      "332744/332744 [==============================] - 2s 5us/step - loss: 0.0012 - val_loss: 0.0012\n",
      "Epoch 49/100\n",
      "332744/332744 [==============================] - 2s 5us/step - loss: 0.0012 - val_loss: 0.0012\n",
      "Epoch 50/100\n",
      "332744/332744 [==============================] - 2s 6us/step - loss: 0.0012 - val_loss: 0.0012\n",
      "Epoch 51/100\n",
      "332744/332744 [==============================] - 2s 6us/step - loss: 0.0012 - val_loss: 0.0012\n",
      "Epoch 52/100\n",
      "332744/332744 [==============================] - 2s 6us/step - loss: 0.0012 - val_loss: 0.0012\n",
      "Epoch 53/100\n",
      "332744/332744 [==============================] - 2s 6us/step - loss: 0.0012 - val_loss: 0.0012\n",
      "Epoch 54/100\n",
      "332744/332744 [==============================] - 2s 6us/step - loss: 0.0012 - val_loss: 0.0012\n",
      "Epoch 55/100\n",
      "332744/332744 [==============================] - 2s 6us/step - loss: 0.0012 - val_loss: 0.0012\n",
      "Epoch 56/100\n",
      "332744/332744 [==============================] - 2s 6us/step - loss: 0.0012 - val_loss: 0.0012\n",
      "Epoch 57/100\n",
      "332744/332744 [==============================] - 2s 6us/step - loss: 0.0012 - val_loss: 0.0012\n",
      "Epoch 58/100\n",
      "332744/332744 [==============================] - 2s 6us/step - loss: 0.0012 - val_loss: 0.0012\n",
      "Epoch 59/100\n",
      "332744/332744 [==============================] - 2s 6us/step - loss: 0.0012 - val_loss: 0.0012\n",
      "Epoch 60/100\n",
      "332744/332744 [==============================] - 2s 6us/step - loss: 0.0012 - val_loss: 0.0012\n",
      "Epoch 61/100\n",
      "332744/332744 [==============================] - 2s 5us/step - loss: 0.0012 - val_loss: 0.0012\n",
      "Epoch 62/100\n",
      "332744/332744 [==============================] - 2s 5us/step - loss: 0.0012 - val_loss: 0.0012\n",
      "Epoch 63/100\n",
      "332744/332744 [==============================] - 2s 6us/step - loss: 0.0012 - val_loss: 0.0012\n"
     ]
    },
    {
     "data": {
      "text/plain": [
       "<keras.callbacks.callbacks.History at 0x7f4fe00ccd68>"
      ]
     },
     "execution_count": 16,
     "metadata": {},
     "output_type": "execute_result"
    }
   ],
   "source": [
    "from keras.callbacks import EarlyStopping, CSVLogger, ModelCheckpoint\n",
    "from keras.optimizers import *\n",
    "\n",
    "my_callbacks = [EarlyStopping(patience=10),\n",
    "             ModelCheckpoint('model/gen128.h5', save_best_only=True,save_weights_only = False)]\n",
    "model.compile(loss='logcosh',\n",
    "              optimizer=Adam(1e-3, amsgrad=True))\n",
    "model.fit(X_train,Y_train, epochs=100,validation_data = (X_test,Y_test), workers=4, use_multiprocessing=True,\n",
    "                      batch_size = 512,\n",
    "                    callbacks=my_callbacks)"
   ]
  },
  {
   "cell_type": "code",
   "execution_count": null,
   "metadata": {},
   "outputs": [],
   "source": []
  },
  {
   "cell_type": "code",
   "execution_count": 17,
   "metadata": {},
   "outputs": [],
   "source": [
    "zz=model.predict(X)"
   ]
  },
  {
   "cell_type": "code",
   "execution_count": 18,
   "metadata": {},
   "outputs": [
    {
     "data": {
      "text/plain": [
       "(415930, 128)"
      ]
     },
     "execution_count": 18,
     "metadata": {},
     "output_type": "execute_result"
    }
   ],
   "source": [
    "zz.shape"
   ]
  },
  {
   "cell_type": "code",
   "execution_count": 19,
   "metadata": {},
   "outputs": [],
   "source": [
    "np.savetxt('gen_data128.csv',zz,delimiter=',')"
   ]
  },
  {
   "cell_type": "code",
   "execution_count": 20,
   "metadata": {},
   "outputs": [
    {
     "data": {
      "image/png": "[encoded data removed]",
      "text/plain": [
       "<Figure size 432x288 with 1 Axes>"
      ]
     },
     "metadata": {
      "needs_background": "light"
     },
     "output_type": "display_data"
    },
    {
     "data": {
      "text/plain": [
       "[<matplotlib.lines.Line2D at 0x7f4f9c0e11d0>]"
      ]
     },
     "execution_count": 20,
     "metadata": {},
     "output_type": "execute_result"
    },
    {
     "data": {
      "image/png": "[encoded data removed]",
      "text/plain": [
       "<Figure size 432x288 with 1 Axes>"
      ]
     },
     "metadata": {
      "needs_background": "light"
     },
     "output_type": "display_data"
    }
   ],
   "source": [
    "plt.plot(zz[0])\n",
    "plt.show()\n",
    "plt.plot(data_128[0])                                                                                                                                           "
   ]
  },
  {
   "cell_type": "code",
   "execution_count": null,
   "metadata": {},
   "outputs": [],
   "source": []
  }
 ],
 "metadata": {
  "kernelspec": {
   "display_name": "Python 3",
   "language": "python",
   "name": "python3"
  },
  "language_info": {
   "codemirror_mode": {
    "name": "ipython",
    "version": 3
   },
   "file_extension": ".py",
   "mimetype": "text/x-python",
   "name": "python",
   "nbconvert_exporter": "python",
   "pygments_lexer": "ipython3",
   "version": "3.6.9"
  }
 },
 "nbformat": 4,
 "nbformat_minor": 2
}
